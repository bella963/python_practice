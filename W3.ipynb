{
 "cells": [
  {
   "cell_type": "markdown",
   "metadata": {},
   "source": [
    "# ItDS Assignment 3"
   ]
  },
  {
   "cell_type": "markdown",
   "metadata": {},
   "source": [
    "# Exercises\n",
    "\n"
   ]
  },
  {
   "cell_type": "markdown",
   "metadata": {},
   "source": [
    "### Exercise 1: Equality\n",
    "\n",
    "According to the `==` operator, are the values for `a` and `b` below equal? Answer the questions below, with `yes` or `no`. Return your answers in a tuple.\n",
    "\n",
    "1. `a` an integer and `b` a float, both representing the same value (1 and 1.0 for example)\n",
    "2. `a` a set and `b` a frozenset, both containing the same values\n",
    "3. `a` an integer and `b` an integer saved as a string, both representing the same value (1 and '1' for example)\n",
    "4. `a` a tuple and `b` a list, both containing the same values\n",
    "\n"
   ]
  },
  {
   "cell_type": "code",
   "execution_count": null,
   "metadata": {},
   "outputs": [],
   "source": [
    "# equality\n",
    "#      in:  nothing\n",
    "#      out: tuple containing your answers to the first exercise\n",
    "\n",
    "def equality():\n",
    "    a1 = 'yes'\n",
    "    a2 = 'yes'\n",
    "    a3 = 'no'\n",
    "    a4 = 'no'\n",
    "    \n",
    "    answer = (a1, a2, a3, a4)\n",
    "\n",
    "    return(answer)"
   ]
  },
  {
   "cell_type": "code",
   "execution_count": null,
   "metadata": {},
   "outputs": [],
   "source": [
    "# Example of correctly formatted function output (not perse the actual answer):\n",
    "print(('yes', 'yes', 'yes', 'yes'))\n",
    "\n",
    "# Your output:\n",
    "print(equality())"
   ]
  },
  {
   "cell_type": "markdown",
   "metadata": {},
   "source": [
    "### Exercise 2: References\n",
    "\n",
    "Answer the questions below, with `yes` or `no`, or in some cases a number, as stated in the table below.\n",
    "\n",
    "1. After the statement `a = b = 8`, both `a` and `b` will hold the same value. Do `a` and `b` reference to the same object in computer memory? (How can you check this?)\n",
    "\n",
    "2. If we now say `a = 18`, what value will be outputted when evaluating `b`? \n",
    "\n",
    "3. Using the expression `a = b = [3, 4, 8, 7]`, both `a` and `b` will output `[3, 4, 8, 7]` when evaluated. If we now say `a[2] = 18`, what value will be output when calling `b[2]`?\n",
    "\n",
    "4. First set `b = 8`, and then create the tuple `a = (3, 4, b)`. Will `a` be affected (i.e. will its output change) if we now change `b` to any other value, say `b = \"GoodLuck!\"`?\n",
    "\n",
    "5. First set `b = [8, 4, 6]`, and again set `a = (3, 4, b)`. Will `a` be affected if we now set `b = [\"a\", \"new\", \"list!\"]`?\n",
    "\n",
    "6. First set `b = [8, 4, 6]`, and again set `a = (3, 4, b)`. Will `a` be affected if we now set `b[:] = [\"a\", \"new\", \"list!\"]`?\n",
    "    \n",
    "| Question number | Possible answers |\n",
    "|:---:| ---:| \n",
    "| 1  | `'yes'`, `'no'` |\n",
    "| 2  | `8`, `18` |\n",
    "| 3  | `8`, `18` |\n",
    "| 4  | `'yes'` , `'no'` |\n",
    "| 5  | `'yes'` , `'no'` |\n",
    "| 6  | `'yes'` , `'no'` |"
   ]
  },
  {
   "cell_type": "code",
   "execution_count": null,
   "metadata": {},
   "outputs": [],
   "source": [
    "# references\n",
    "#      in:  nothing\n",
    "#      out: tuple containing your answers to the first exercise\n",
    "\n",
    "def references():\n",
    "    a1 = 'yes'\n",
    "    a2 = 8\n",
    "    a3 = 18\n",
    "    a4 = 'no'\n",
    "    a5 = 'no'\n",
    "    a6 = 'yes'\n",
    "\n",
    "    answer = (a1, a2, a3, a4, a5, a6)\n",
    "    \n",
    "    return(answer)"
   ]
  },
  {
   "cell_type": "code",
   "execution_count": null,
   "metadata": {},
   "outputs": [],
   "source": [
    "# Example of correctly formatted function output (not necessarily the actual answer):\n",
    "print(('yes', 123, 10, 'yes', 'yes', 'yes'))\n",
    "\n",
    "# Your output:\n",
    "print(references())"
   ]
  },
  {
   "cell_type": "markdown",
   "metadata": {},
   "source": [
    "### Exercise 3: Sets and dictionaries\n",
    "\n",
    "1. Can `(1,2,[3,4])` be used as a key in a dictionary?\n",
    "\n",
    "2. For some arbitrary sets `c` and `d`, is it possible to add set `d` to set `c` using `c.add(d)`?\n",
    "\n",
    "3. Consider the following situation: You are looking through some random discrete data and are keeping track of all different values you have encountered in the data. You store these values both in a list and in a set. \n",
    "   - a) If you want to check how many unique values you've encountered, would it be more efficient (faster and easier) to check this using the list or the set?\n",
    "   - b) If you want to check which value you encountered first in this data, would this be possible using the list, the set, or both?\n",
    "    \n",
    "| Question number | Possible answers |\n",
    "| --- |:--- |\n",
    "| 1-2 | `'yes'` `'no'` |\n",
    "| 3a  | `'list'` `'set'` | \n",
    "| 3b  | `'list'` `'set'` `'both'`|\n"
   ]
  },
  {
   "cell_type": "code",
   "execution_count": null,
   "metadata": {},
   "outputs": [],
   "source": [
    "# sets_and_dictionaries\n",
    "#      in:  nothing\n",
    "#      out: tuple containing your answers to the second exercise\n",
    "\n",
    "def sets_and_dictionaries():\n",
    "    a1 = 'no'\n",
    "    a2 = 'no'\n",
    "    a3 = ('set','list')\n",
    "    \n",
    "    answer = (a1,a2,a3)\n",
    "    \n",
    "    return(answer)"
   ]
  },
  {
   "cell_type": "code",
   "execution_count": null,
   "metadata": {},
   "outputs": [],
   "source": [
    "# Example of correctly formatted function output (not perse the actual answer):\n",
    "print(('yes', 'yes', ('list', 'list')))\n",
    "\n",
    "# Your output:\n",
    "print(sets_and_dictionaries())\n"
   ]
  },
  {
   "cell_type": "markdown",
   "metadata": {},
   "source": [
    "### Exercise 4: Groceries (1)\n",
    "\n",
    "For this problem you will receive a dictionary (`prices`) containing products (as keys) and their prices (as values). Products are represented as strings and prices as floats.\n",
    "\n",
    "Find the total price for the shopping list provided as input for the function (`totalprice`). This input (`shoplist`) is shaped as a tuple containing tuples indicating product and amount of that product that you need to buy. E.g. `(('Onion', 2),('Pasta',1),('Tomato',8))`.\n",
    "\n",
    "You should return a float containing the sum of the prices. This float **must be rounded** to 2 decimals."
   ]
  },
  {
   "cell_type": "code",
   "execution_count": 162,
   "metadata": {},
   "outputs": [],
   "source": [
    "# totalprice\n",
    "#      in:  a dictionary: prices\n",
    "#           a tuple consisting of multiple tuples containing product name and quantity: shoplist\n",
    "#      out: a float\n",
    "def totalprice(prices, shoplist):\n",
    "    shoplist = dict(shoplist)\n",
    "    sum_price = list()\n",
    "    \n",
    "    for key1 in prices:\n",
    "        if key1 in shoplist:\n",
    "            shoplist[key1]*prices[key1]\n",
    "            sum_price.append(shoplist[key1]*prices[key1])\n",
    "    \n",
    "    #print(sum_price)\n",
    "     \n",
    "    totalprice = sum(sum_price)  \n",
    "\n",
    "    # Complete the function here\n",
    "    \n",
    "    return (round(totalprice,2))\n",
    "    "
   ]
  },
  {
   "cell_type": "code",
   "execution_count": 197,
   "metadata": {},
   "outputs": [
    {
     "name": "stdout",
     "output_type": "stream",
     "text": [
      "6.86\n",
      "6.86\n"
     ]
    }
   ],
   "source": [
    "# Example of correctly formatted function output (and the actual answer for this example):\n",
    "print(6.86)\n",
    "\n",
    "# Your output:\n",
    "testprices = {'Onion':0.35, 'Tomato':0.62, 'Zucchini':0.69, 'Chips':1.15, 'Wine':6.30, 'Pasta':1.20}\n",
    "testshoplist = (('Onion', 2), ('Pasta', 1), ('Tomato', 8))\n",
    "print(totalprice(testprices, testshoplist))"
   ]
  },
  {
   "cell_type": "markdown",
   "metadata": {},
   "source": [
    "### Exercise 5: Groceries (2)\n",
    "\n",
    "Using the same input dictionary (`prices`) as the previous question (Groceries 1):\n",
    "\n",
    "Since we are very cheap students, given an input (`price_limit`) containing some price, find all products with a price lower than the given input and store those as a set. The input can be any float.\n",
    "\n",
    "You should return a set of the products you found with a price lower than the `price_limit` input."
   ]
  },
  {
   "cell_type": "code",
   "execution_count": 195,
   "metadata": {},
   "outputs": [],
   "source": [
    "# cheap_products\n",
    "#      in:  a dictionary: prices\n",
    "#           a float containing the price limit: price_limit\n",
    "#      out: a set\n",
    "def cheap_products(prices, price_limit):\n",
    "    cheap = set()\n",
    "    for product in prices:\n",
    "        if prices[product] < price_limit:\n",
    "            cheap.add(product)\n",
    "    #print(cheap)\n",
    "            \n",
    "    \n",
    "    # Complete the function here\n",
    "    \n",
    "    return (cheap) # fix this"
   ]
  },
  {
   "cell_type": "code",
   "execution_count": 196,
   "metadata": {},
   "outputs": [
    {
     "name": "stdout",
     "output_type": "stream",
     "text": [
      "{'Tomato', 'Zucchini', 'Onion'}\n"
     ]
    }
   ],
   "source": [
    "# Example of correctly formatted function output (and the actual answer for this example):\n",
    "#print({'Zucchini', 'Onion', 'Tomato'})\n",
    "\n",
    "# Your output:\n",
    "testprices = {'Onion':0.35, 'Tomato':0.62, 'Zucchini':0.69, 'Chips':1.15, 'Wine':6.30, 'Pasta':1.20}\n",
    "testpriceval = 1.00\n",
    "print(cheap_products(testprices,testpriceval))"
   ]
  },
  {
   "cell_type": "markdown",
   "metadata": {},
   "source": [
    "### Exercise 6: Word frequencies (1)\n",
    "\n",
    "We will develop a bunch of functions that take a list of words as input. The following word list will be convenient to test your functions."
   ]
  },
  {
   "cell_type": "code",
   "execution_count": 3,
   "metadata": {},
   "outputs": [],
   "source": [
    "TESTLIST = [\"as\", \"soon\", \"as\", \"one\", \"sits\", \"down\", \"to\", \"think\", \"one\", \"becomes\", \"all\", \"nose\",\n",
    "            \"or\", \"all\", \"forehead\", \"or\", \"something\", \"horrid\"]"
   ]
  },
  {
   "cell_type": "markdown",
   "metadata": {},
   "source": [
    "Write a function that takes a word list as input, and outputs the number of *distinct* words in the list."
   ]
  },
  {
   "cell_type": "code",
   "execution_count": 11,
   "metadata": {},
   "outputs": [],
   "source": [
    "# count_unique_words\n",
    "#      in:  a list of words\n",
    "#      out: an integer: the number of distinct words\n",
    "def count_unique_words(wordlist):\n",
    "    uniq_word_num = len(set(wordlist))\n",
    "    return(uniq_word_num)\n",
    "    # Complete the function here    "
   ]
  },
  {
   "cell_type": "code",
   "execution_count": 12,
   "metadata": {},
   "outputs": [
    {
     "name": "stdout",
     "output_type": "stream",
     "text": [
      "14\n",
      "14\n"
     ]
    }
   ],
   "source": [
    "# Example of correctly formatted function output (correct answer for TESTLIST):\n",
    "print(14)\n",
    "\n",
    "# Your output:\n",
    "print(count_unique_words(TESTLIST))"
   ]
  },
  {
   "cell_type": "markdown",
   "metadata": {},
   "source": [
    "### Exercise 7: Word frequencies (2)\n",
    "\n",
    "Given any input list of words, create a new list that contains the same words as the input list except that all words that end with the letter *d* are removed.\n",
    "\n",
    "_Hint:_ You can use .endswith() for this exercise! E.g. for some string `a = \"abcd\"`, `a.endswith('d')` will evaluate to `True`.) Also, make sure that you do not modify the input list: return a *new* list."
   ]
  },
  {
   "cell_type": "code",
   "execution_count": 46,
   "metadata": {},
   "outputs": [],
   "source": [
    "# remove_words_that_end_with_d\n",
    "#      in:  a list of words: wordlist\n",
    "#      out: a list of words: the list with all words that end in \"d\" removed.\n",
    "def remove_words_that_end_with_d(wordlist):\n",
    "    new_list = wordlist.copy()\n",
    "    output = [word for word in new_list if not word.endswith(\"d\")]\n",
    "    return(output)\n",
    "    \n",
    "    # Complete the function here"
   ]
  },
  {
   "cell_type": "code",
   "execution_count": 47,
   "metadata": {},
   "outputs": [
    {
     "name": "stdout",
     "output_type": "stream",
     "text": [
      "['as', 'soon', 'as', 'one', 'sits', 'down', 'to', 'think', 'one', 'becomes', 'all', 'nose', 'or', 'all', 'or', 'something']\n",
      "['as', 'soon', 'as', 'one', 'sits', 'down', 'to', 'think', 'one', 'becomes', 'all', 'nose', 'or', 'all', 'or', 'something']\n"
     ]
    }
   ],
   "source": [
    "# Example of correctly formatted function output (correct answer for TESTLIST):\n",
    "print([\"as\", \"soon\", \"as\", \"one\", \"sits\", \"down\", \"to\", \"think\", \"one\", \"becomes\", \"all\", \"nose\",\n",
    "            \"or\", \"all\", \"or\", \"something\"])\n",
    "\n",
    "# Your output:\n",
    "print(remove_words_that_end_with_d(TESTLIST))\n",
    "#print(TESTLIST)"
   ]
  },
  {
   "cell_type": "code",
   "execution_count": 48,
   "metadata": {},
   "outputs": [
    {
     "data": {
      "text/plain": [
       "['i', 'me']"
      ]
     },
     "execution_count": 48,
     "metadata": {},
     "output_type": "execute_result"
    }
   ],
   "source": [
    "l1 = [\"i\",\"forhead\",\"would\",\"should\",\"me\",\"id\"]\n",
    "remove_words_that_end_with_d(l1)"
   ]
  },
  {
   "cell_type": "markdown",
   "metadata": {},
   "source": [
    "### Exercise 8: Word frequencies (3)\n",
    "\n",
    "This function takes as input a wordlist and a separate word. Its output should be the index of the first occurrence given word, if we would (1) add it to the list and (2) then sort the list alphabetically. \n",
    "\n",
    "_Hint:_ There is a very useful function to sort the elements in a list, check out `sorted()`.\n"
   ]
  },
  {
   "cell_type": "code",
   "execution_count": 60,
   "metadata": {},
   "outputs": [],
   "source": [
    "# word_index_alphabetical_order\n",
    "#      in:  a list of words: wordlist\n",
    "#           a string: word\n",
    "#      out: an integer: the index of the word in the sorted list\n",
    "def word_index_alphabetical_order(wordlist, word):\n",
    "    wordlist_copy = wordlist.copy()\n",
    "    #print(wordlist_copy)\n",
    "    wordlist_copy.append(word)\n",
    "    #print(wordlist_copy)\n",
    "    sort_list  = sorted(wordlist_copy)\n",
    "    #print(sort_list)\n",
    "    for index,item in enumerate(sort_list):\n",
    "        if item == word:\n",
    "            return(index)\n",
    "    # Complete the function here\n",
    "    "
   ]
  },
  {
   "cell_type": "code",
   "execution_count": 61,
   "metadata": {},
   "outputs": [
    {
     "name": "stdout",
     "output_type": "stream",
     "text": [
      "5\n",
      "5\n"
     ]
    }
   ],
   "source": [
    "# Example of correctly formatted function output (correct answer for TESTLIST):\n",
    "print(5)\n",
    "\n",
    "# First copy the wordlist so you can make changes and keep the original\n",
    "\n",
    "# Your output:\n",
    "print(word_index_alphabetical_order(TESTLIST, \"boo\"))"
   ]
  },
  {
   "cell_type": "markdown",
   "metadata": {},
   "source": [
    "### Exercise 9: Word frequencies (4)\n",
    "\n",
    "Given a wordlist and a word, create a copy of the input list where all three letter words have been replaced by the given word."
   ]
  },
  {
   "cell_type": "code",
   "execution_count": 40,
   "metadata": {},
   "outputs": [],
   "source": [
    "# replace_3_letter_words\n",
    "#      in:  a list of words: wordlist\n",
    "#           a string: word\n",
    "#      out: a list of words in which three letter words have been replaced by the given word\n",
    "def replace_3_letter_words(wordlist, word):\n",
    "    wordlist_new = wordlist.copy()\n",
    "    for index,elem in enumerate(wordlist_new):\n",
    "        if len(elem) == 3:\n",
    "            wordlist_new[index] = word\n",
    "    return(wordlist_new)\n",
    "            \n",
    "    # Complete the function here\n",
    "        "
   ]
  },
  {
   "cell_type": "code",
   "execution_count": 41,
   "metadata": {},
   "outputs": [
    {
     "name": "stdout",
     "output_type": "stream",
     "text": [
      "['as', 'soon', 'as', 'yo', 'sits', 'down', 'to', 'think', 'yo', 'becomes', 'yo', 'nose', 'or', 'yo', 'forehead', 'or', 'something', 'horrid']\n",
      "['as', 'soon', 'as', 'yo', 'sits', 'down', 'to', 'think', 'yo', 'becomes', 'yo', 'nose', 'or', 'yo', 'forehead', 'or', 'something', 'horrid']\n"
     ]
    }
   ],
   "source": [
    "# Example of correctly formatted function output (correct answer for TESTLIST):\n",
    "print([\"as\", \"soon\", \"as\", \"yo\", \"sits\", \"down\", \"to\", \"think\", \"yo\", \"becomes\", \"yo\", \"nose\",\n",
    "            \"or\", \"yo\", \"forehead\", \"or\", \"something\", \"horrid\"])\n",
    "\n",
    "# Your output:\n",
    "print(replace_3_letter_words(TESTLIST, \"yo\"))\n",
    "\n",
    "# Make sure that all three letter words are replaced by the testword in the input\n",
    "# list!"
   ]
  },
  {
   "cell_type": "markdown",
   "metadata": {},
   "source": [
    "### Exercise 10: Word frequencies (5)\n",
    "\n",
    "Along with this assignment, you can download a txt file containing some text (`word_frequencies_text_1.txt`). Save this text in the **same folder as this jupyter notebook**. You will be looking at the separate words in that text. To use this text in your code, you will need to read it into Python as separate strings for each word. The code to make a list containing all separate words is provided in the next code cell. You don't have to understand this code (yet!), just evaluate the cell and make sure the file gets loaded properly."
   ]
  },
  {
   "cell_type": "code",
   "execution_count": 72,
   "metadata": {},
   "outputs": [],
   "source": [
    "with open(\"word_frequencies_text_1.txt\", 'r') as myfile:\n",
    "    WORDLIST = myfile.read().lower().replace(\".\", \"\").replace(\",\", \"\").split()"
   ]
  },
  {
   "cell_type": "markdown",
   "metadata": {},
   "source": [
    "Now we'll use the functions you've written before with this much larger wordlist. Find all unique words that occur in `WORDLIST`, __not in either__ `remove_words_that_end_with_d(WORDLIST)` __or__ `replace_3_letter_words(WORDLIST, word)`, where `word` is an input to your function. Give your answer in the form of a set."
   ]
  },
  {
   "cell_type": "code",
   "execution_count": 71,
   "metadata": {},
   "outputs": [],
   "source": [
    "# comparing_wordlists\n",
    "#      in:  a list of words: wordlist\n",
    "#           a string: word\n",
    "#      out: a set of words that satisfy the condition of the exercise\n",
    "\n",
    "def comparing_wordlists(wordlist, word):\n",
    "    def remove_words_that_end_with_d(wordlist):\n",
    "        word1 = wordlist.copy()\n",
    "        for wd in word1:\n",
    "            if wd.endswith(\"d\"):\n",
    "                word1.remove(wd)\n",
    "        return(set(word1))\n",
    "        \n",
    "    def replace_3_letter_words(wordlist, word):\n",
    "        word2 = wordlist.copy()\n",
    "        for idx,ele in enumerate(word2):\n",
    "            if len(ele) == 3:\n",
    "                word2[idx] = word\n",
    "                #print(word2)\n",
    "        return(set(word2))\n",
    "    \n",
    "    \n",
    "    word3 = wordlist.copy()\n",
    "    set3 = set(word3)\n",
    "    #print(set3)\n",
    "    set1_and_2 = remove_words_that_end_with_d(wordlist) | replace_3_letter_words(wordlist, word)\n",
    "    #print(set1_and_2)\n",
    "    unique_set = set3 - set1_and_2\n",
    "    \n",
    "    return(unique_set)\n",
    "            \n",
    "    \n",
    "    \n",
    "    \n",
    "    \n",
    "    # Complete the function here\n",
    "    # Use some of the functions you've written before! Copy the code, don't use the functions directly!\n",
    "        "
   ]
  },
  {
   "cell_type": "code",
   "execution_count": 72,
   "metadata": {},
   "outputs": [
    {
     "name": "stdout",
     "output_type": "stream",
     "text": [
      "{'only', 'list', 'the', 'some', 'in', 'words', 'original'}\n",
      "{'sed'}\n"
     ]
    }
   ],
   "source": [
    "# Example of correctly formatted function output (not the actual answer!):\n",
    "print({\"some\", \"words\", \"only\", \"in\", \"the\", \"original\", \"list\"})\n",
    "\n",
    "# Your output:\n",
    "testword = \"hello\"\n",
    "\n",
    "print(comparing_wordlists(WORDLIST, testword))"
   ]
  },
  {
   "cell_type": "markdown",
   "metadata": {},
   "source": [
    "### Exercise 11: Word frequencies (6)\n",
    "\n",
    "Finally, write a function that finds the most common words in a given wordlist, that is, the __set__ of words with the highest frequency (this might be just a single word, or there may be several words with the same frequency). Note: for long wordlists, if you're not careful your function may become slow (and if it's too slow, your test will fail!). The trick is to make a *dictionary* containing the words as keys and the frequency of that word as the corresponding value. You can create this dictionary using *one* `for` loop over the input list."
   ]
  },
  {
   "cell_type": "code",
   "execution_count": 142,
   "metadata": {},
   "outputs": [],
   "source": [
    "# most_common_words\n",
    "#      in:  a list of words: wordlist\n",
    "#      out: a set of words: the most common word in wordlist\n",
    "\n",
    "def most_common_words(wordlist):\n",
    "    frequency = dict((word,wordlist.count(word)) for word in wordlist)\n",
    "    #print(frequency)\n",
    "    word_set = set()\n",
    "    freq_list = []\n",
    "    for key in frequency:\n",
    "        freq_list.append(frequency[key])\n",
    "    #print(freq_list)\n",
    "    \n",
    "    for wrd,freq in frequency.items():\n",
    "        if freq == max(set(freq_list)):\n",
    "            word_set.add(wrd)\n",
    "    \n",
    "    \n",
    "    return(word_set)\n",
    "\n",
    "    \n",
    "        \n",
    "    \n",
    "    \n",
    "    \n",
    "        \n",
    "        \n",
    "            \n",
    "    \n",
    "    # Complete the function here\n",
    "    \n",
    "    "
   ]
  },
  {
   "cell_type": "code",
   "execution_count": 143,
   "metadata": {},
   "outputs": [
    {
     "name": "stdout",
     "output_type": "stream",
     "text": [
      "{'all', 'or', 'one', 'as'}\n",
      "{'all', 'or', 'one', 'as'}\n"
     ]
    }
   ],
   "source": [
    "# Example of correctly formatted function output (correct answer for TESTLIST):\n",
    "print({\"as\", \"one\", \"all\", \"or\"})\n",
    "\n",
    "# Your output:\n",
    "print(most_common_words(TESTLIST))\n",
    "\n",
    "# also test your function on WORDLIST to check that it's fast enough!\n",
    "# print(most_common_words(WORDLIST))"
   ]
  },
  {
   "cell_type": "code",
   "execution_count": 145,
   "metadata": {},
   "outputs": [
    {
     "name": "stdout",
     "output_type": "stream",
     "text": [
      "{'sed'}\n"
     ]
    }
   ],
   "source": [
    "print(most_common_words(WORDLIST))"
   ]
  },
  {
   "cell_type": "code",
   "execution_count": null,
   "metadata": {},
   "outputs": [],
   "source": []
  }
 ],
 "metadata": {
  "kernelspec": {
   "display_name": "Python 3",
   "language": "python",
   "name": "python3"
  },
  "language_info": {
   "codemirror_mode": {
    "name": "ipython",
    "version": 3
   },
   "file_extension": ".py",
   "mimetype": "text/x-python",
   "name": "python",
   "nbconvert_exporter": "python",
   "pygments_lexer": "ipython3",
   "version": "3.7.3"
  }
 },
 "nbformat": 4,
 "nbformat_minor": 2
}
