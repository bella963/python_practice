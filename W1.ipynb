{
 "cells": [
  {
   "cell_type": "markdown",
   "metadata": {},
   "source": [
    "# ItDS Assignment 1\n"
   ]
  },
  {
   "cell_type": "markdown",
   "metadata": {},
   "source": [
    "This homework assignment is about lecture 1: Basic types, tuples and variables."
   ]
  },
  {
   "cell_type": "markdown",
   "metadata": {},
   "source": [
    "The homework is automatically checked. There are some strict guidelines, which are explained below, including some other information.\n",
    "\n",
    "- The first code cell contains a function - `student()` - in which you have to fill in your name, student number and e-mail. Please do so __correctly__, since these will be used to store and mail your results.\n",
    "\n",
    "- All exercises are defined as a function (`def`), of which we will check whether your output of the function corresponds with ours. This means that __we will only check the answer__ (output). So, always check whether your function _returns_ (careful: this is not the same as print) an answer as specified in the exercise!\n",
    "\t- __Do not change the names__ of the given functions, these are specifically named this way for checking the homework. (e.g. if you are to answer exercise 1 which is a function coded: `def exercise1():`, then do not change the name of the function `exercise1()`)\n",
    "\t- __Do not define another new function with the same name__. Even if it is in other cells. We will not be able to find the right version.\n",
    "\t- Do not write additional code in the cell where the function is defined, so only include code within the function that is necessary for the answer. \n",
    "    - After the cell with the function (`def`) a code cell is added where an example of an answer is given to show the format of your output. It also contains a test of your function. You can adjust this to whatever you want (even delete it if you want).\n",
    "\t\n",
    "- Feel free to __add new cells to test snippets of code or for other purposes__.\n",
    "\n",
    "- There are no hard deadlines, but 15/100 points are awarded for submitting your work before the due date, which you can find on Brightspace. It will need to pass at least one test at that time in order to earn those 15 points. __You will be able to resubmit your work at any time after that (until January 1, 2021) and earn the remaining 85/100 points__.\n",
    "\n",
    "About your homework results: An _exercise_ is considered to be correct if all its subquestions are answered correctly, however an _exercise_ sometimes undergoes multiple tests (based on different inputs). The e-mail with results specifies per _exercise_ which tests you have passed and which you have failed. You will get a score proportional to the number of tested passed.\n",
    "\n",
    "\n",
    "For any questions about abovementioned guidelines and information or other homework related problems, please e-mail us or ask directly during the practical session!\n",
    "\n",
    "- Deniz Sen: denizsen.edu@gmail.com\n",
    "- Gergely Talyigás: talyigasg@gmail.com\n",
    "\n"
   ]
  },
  {
   "cell_type": "code",
   "execution_count": 182,
   "metadata": {
    "scrolled": true
   },
   "outputs": [],
   "source": [
    "def student():\n",
    "    sname = 'Bella Shao' # enter your name\n",
    "    snum = '2876426' # enter your student number\n",
    "    semail = 's2876426@vuw.leidenuniv.nl' # enter the e-mail on which you would like the results for this homework assignment\n",
    "    return((sname, snum, semail))"
   ]
  },
  {
   "cell_type": "code",
   "execution_count": 183,
   "metadata": {
    "scrolled": true
   },
   "outputs": [
    {
     "name": "stdout",
     "output_type": "stream",
     "text": [
      "('John Doe', '1234567', 'john@doe.com')\n"
     ]
    },
    {
     "data": {
      "text/plain": [
       "('Bella Shao', '2876426', 's2876426@vuw.leidenuniv.nl')"
      ]
     },
     "execution_count": 183,
     "metadata": {},
     "output_type": "execute_result"
    }
   ],
   "source": [
    "# The function should look the similar to this:\n",
    "print(('John Doe', '1234567', 'john@doe.com'))\n",
    "# Test your output with the function below (run this cell)\n",
    "student()"
   ]
  },
  {
   "cell_type": "markdown",
   "metadata": {},
   "source": [
    "# Exercises"
   ]
  },
  {
   "cell_type": "markdown",
   "metadata": {},
   "source": [
    "### Exercise 1: Datatypes\n",
    "For each expression below, answer: _What datatype does the expression evaluate to?_ \n",
    "\n",
    "Fill in your answers in the function `exercise1()` in the next cell by replacing the text between the parenthesis. All answers for this problem should be basic data types in python as discussed in the first lecture, i.e. integers, floats, strings and booleans. When filling in an answer, write it as `\"int\"`, `\"float\"`, `\"str\"` or `\"bool\"`, not as `\"integer\"` for example.\n",
    "\n",
    "You can, of course, just test the expressions below to find each answer, but it is more educative to also think of an answer beforehand!\n",
    "\n",
    "1. `7`\n",
    "2. `\"Hello?!\"`\n",
    "3. `9 * 7`\n",
    "4. `9.7`\n",
    "5. `7 == 9`\n",
    "6. `9.7 * 9`\n",
    "7. `9 >= 7`\n",
    "8. `9 / 7`\n",
    "9. `9 // 7`\n",
    "10. `7e9`\n",
    "11. `9**7`\n",
    "12. `9 % 7`\n",
    "13. `(9 > 7) + 8.7`\n",
    "14. `'9' + '7'`\n",
    "15. `7**-9`"
   ]
  },
  {
   "cell_type": "code",
   "execution_count": 15,
   "metadata": {},
   "outputs": [],
   "source": [
    "# exercise1\n",
    "    # in: Nothing\n",
    "    # out: A tuple containing your answers to exercise 1\n",
    "\n",
    "def exercise1():\n",
    "    \n",
    "    a1 = 'int' # first two are correct example answers. Good luck.\n",
    "    a2 = 'str'\n",
    "    a3 = 'int'\n",
    "    a4 = 'float'\n",
    "    a5 = 'bool'\n",
    "    a6 = 'float'\n",
    "    a7 = 'bool'\n",
    "    a8 = 'float'\n",
    "    a9 = 'int'\n",
    "    a10 = 'float'\n",
    "    a11 = 'int'\n",
    "    a12 = 'int'\n",
    "    a13 = 'float'\n",
    "    a14 = 'str'\n",
    "    a15 = 'float'\n",
    "    \n",
    "    answer = (a1,a2,a3,a4,a5,a6,a7,a8,a9,a10,a11,a12,a13,a14,a15)\n",
    "    \n",
    "    return(answer) "
   ]
  },
  {
   "cell_type": "code",
   "execution_count": 16,
   "metadata": {
    "scrolled": true
   },
   "outputs": [
    {
     "name": "stdout",
     "output_type": "stream",
     "text": [
      "('int', 'int', 'int', 'int', 'float', 'float', 'float', 'float', 'str', 'str', 'str', 'str', 'bool', 'bool', 'bool')\n",
      "('int', 'str', 'int', 'float', 'bool', 'float', 'bool', 'float', 'int', 'float', 'int', 'int', 'float', 'str', 'float')\n"
     ]
    }
   ],
   "source": [
    "# Example of correctly formatted function output (not the actual answer):\n",
    "print(('int', 'int', 'int', 'int', 'float', 'float', 'float', 'float', 'str', 'str', 'str', 'str', 'bool', 'bool', 'bool')) \n",
    "\n",
    "# Your output:\n",
    "print(exercise1())"
   ]
  },
  {
   "cell_type": "markdown",
   "metadata": {},
   "source": [
    "### Exercise 2: Precision loss\n",
    "For each expression below, answer the next question: _Does the expression retain the intended precision?_\n",
    "\n",
    "> For example, if we have this expression: `100 + 0.001` or `1e2 + 1e-3`, we would want `100.001` as output. In this case, Python outputs `100.001` as intended. However, if the expression would be `10000000000000000000000000 + 0.1` or `1e25 + 1e-1`, the intended output is `10000000000000000000000000.1`. Python does not retain this precision, just outputting `1e25`.\n",
    "\n",
    "Answer this problem in the same way as problem 1. The possible answers for this problem are only 'yes' and 'no' (in __lowercase__).\n",
    "\n",
    "1. `1e-10`\n",
    "2. `1e18 + 1`\n",
    "3. `(1e18 + 1e3) * 1e-18`\n",
    "4. `1e-14 + 1`\n",
    "5. `1e97`\n",
    "6. `(1 + 1e8)**2`  \n",
    "\n",
    "Tip for the last expression: `1+1e8` is equal to `100000001`, how could you check whether you do not get the intended result?"
   ]
  },
  {
   "cell_type": "code",
   "execution_count": 184,
   "metadata": {},
   "outputs": [],
   "source": [
    "# exercise2\n",
    "    # in: Nothing\n",
    "    # out: Tuple containing your answers to problem 2\n",
    "    \n",
    "def exercise2():\n",
    "    # Note that it does not matter if we use the same variable names within this function as in the function for exercise 1!\n",
    "    \n",
    "    a1 = 'yes'\n",
    "    a2 = 'no'\n",
    "    a3 = 'yes'\n",
    "    a4 = 'yes'\n",
    "    a5 = 'yes'\n",
    "    a6 = 'no'\n",
    "    \n",
    "    answer = (a1,a2,a3,a4,a5,a6)\n",
    "    \n",
    "    return(answer)"
   ]
  },
  {
   "cell_type": "code",
   "execution_count": 185,
   "metadata": {},
   "outputs": [
    {
     "name": "stdout",
     "output_type": "stream",
     "text": [
      "('yes', 'yes', 'yes', 'no', 'no', 'no')\n",
      "('yes', 'no', 'yes', 'yes', 'yes', 'no')\n"
     ]
    }
   ],
   "source": [
    "# Example of correctly formatted function output (not the actual answer):\n",
    "print(('yes', 'yes', 'yes', 'no', 'no', 'no')) \n",
    "\n",
    "# Your output:\n",
    "print(exercise2())"
   ]
  },
  {
   "cell_type": "markdown",
   "metadata": {},
   "source": [
    "### Problem 3: Rounding and Precedence\n",
    "\n",
    "For this problem, check the possible answers for each question in the table at the end of this cell.\n",
    "\n",
    "1. In what direction does the `int()` function always round? \n",
    "2. Do `int(n/m)` and `n//m` for __any real__ numbers `n` and `m` always evaluate to the same value? \n",
    "3. To what basic datatype does the next expression evaluate: `9**2 > 9 + 2`?\n",
    "4. Does `(2+3)*4` evaluate to the same value as `2+3*4`?\n",
    "5. Does `int(1e100)*int(1e100)` evaluate to the same value as `int(1e100*1e100)`?\n",
    "    \n",
    "    \n",
    "\n",
    "| Question number | Possible answers |  |  |\n",
    "| --- | --- | --- | --- |\n",
    "| 1  | `'down'` | `'to zero'` | `'up'` | \n",
    "| 2  | `'yes'` | `'no'` |  |\n",
    "| 3  | `'int'` | `'bool'` |  |\n",
    "| 4, 5  | `'yes'` | `'no'` |  |"
   ]
  },
  {
   "cell_type": "code",
   "execution_count": null,
   "metadata": {},
   "outputs": [],
   "source": [
    "# exercise3\n",
    "    # in: Nothing\n",
    "    # out: Tuple containing your answers to problem 3\n",
    "    \n",
    "def exercise3():\n",
    "    \n",
    "    a1 = 'to zero'\n",
    "    a2 = 'no'\n",
    "    a3 = 'bool'\n",
    "    a4 = 'no'\n",
    "    a5 = 'no'\n",
    "    \n",
    "    answer = (a1,a2,a3,a4,a5)\n",
    "    \n",
    "    return(answer)"
   ]
  },
  {
   "cell_type": "code",
   "execution_count": null,
   "metadata": {},
   "outputs": [],
   "source": [
    "# Example of correctly formatted function output(not the actual answer):\n",
    "print(('down', 'yes', 'int', 'no', 'yes')) \n",
    "\n",
    "# Your output:\n",
    "print(exercise3())"
   ]
  },
  {
   "cell_type": "code",
   "execution_count": 17,
   "metadata": {},
   "outputs": [
    {
     "data": {
      "text/plain": [
       "True"
      ]
     },
     "execution_count": 17,
     "metadata": {},
     "output_type": "execute_result"
    }
   ],
   "source": [
    "9**2 > 9 + 2\n"
   ]
  },
  {
   "cell_type": "markdown",
   "metadata": {},
   "source": [
    "### Exercise 4: Indexing\n",
    "\n",
    "For this exercise you will be indexing a string. As the example we will use the string `'homework'`, but keep in mind that the indexing will have to work on another word as well! E.g. if you have to find an index for the first letter, so `'h'` in `'homework'`, it should return `'a'` if we would want to index the string `'assignment'`.\n",
    "\n",
    "1. Find the first three letters (`'hom'`)\n",
    "2. Find all letters except the first (`'omework'`)\n",
    "3. Find the third and seventh letter (`'mr'`) \n",
    "4. Find all uneven (i.e. the first, third, fifth... etc.) letters, so using steps of 2 (`'hmwr'`). Keep in mind that if the string is longer, we still want __all__ uneven letters! E.g. for `'assignment'` the result should be `'asgmn'`\n",
    "5. Find the third to fifth letters, but in inverted order (`'wem'`)\n"
   ]
  },
  {
   "cell_type": "code",
   "execution_count": 3,
   "metadata": {},
   "outputs": [],
   "source": [
    "# exercise4\n",
    "    # in: String to perform the indexing on\n",
    "    # out: Tuple containing the indexed input strings\n",
    "    \n",
    "def exercise4(string):\n",
    "    # Index these strings below!\n",
    "    a1 = string[0:3]\n",
    "    a2 = string[1:]\n",
    "    a3 = string[2] + string[6]\n",
    "    a4 = string[::2]\n",
    "    a5 = string[4:1:-1]\n",
    "    \n",
    "    answer = (a1,a2,a3,a4,a5)\n",
    "    \n",
    "    return(answer)"
   ]
  },
  {
   "cell_type": "code",
   "execution_count": 186,
   "metadata": {},
   "outputs": [
    {
     "name": "stdout",
     "output_type": "stream",
     "text": [
      "('hom', 'omework', 'mr', 'hmwr', 'wem')\n",
      "('hom', 'omework', 'mr', 'hmwr', 'wem')\n"
     ]
    }
   ],
   "source": [
    "# Example of correctly formatted function output (actual answer if we use 'homework' as input):\n",
    "print(('hom', 'omework', 'mr', 'hmwr', 'wem')) \n",
    "\n",
    "# Your output:\n",
    "test = \"homework\" # This can be replaced by any other string and can be used to test your function.\n",
    "print(exercise4(test))"
   ]
  },
  {
   "cell_type": "markdown",
   "metadata": {},
   "source": [
    "### Exercise 5: Miscellaneous Lecture 1\n"
   ]
  },
  {
   "cell_type": "markdown",
   "metadata": {},
   "source": [
    "Answer/program the questions below! They depend on some inputted variables `string`, `integer` and `tup`, which are some inputted string, integer and tuple respectively.\n",
    "\n",
    "1. Create a tuple with the string and the integer twice (i.e. given `'Room '` and `407`, your answer should be `('Room ', 407, 407)`)\n",
    "2. Assign the first value of the tuple to the answer variable (`a2`). (I.e. if the input tuple is `('abc', 80, 53)`, then the first value of the tuple is `'abc'`)\n",
    "3. Make a tuple with all values from the tuple and the integer (i.e. given `407` and `('abc', 80, 53)`, return `('abc', 80, 53, 407)`)\n",
    "4. Convert an integer to a tuple of its individual numbers (i.e. when given `407`, your answer is `('4', '0', '7')`)"
   ]
  },
  {
   "cell_type": "code",
   "execution_count": 23,
   "metadata": {},
   "outputs": [],
   "source": [
    "# exercise5\n",
    "    # in: A string, an integer and a tuple\n",
    "    # out: A tuple containing your answers\n",
    "\n",
    "def exercise5(string, integer, tup):\n",
    "    # Answer the questions/exercises here, given that the variable string is some inputted string,\n",
    "    # variable integer is some inputted integer and variable tup is some inputted tuple\n",
    "    \n",
    "    # For each answer the input variable (or a tuple containing the input variables) you will need for that answer is\n",
    "    # listed next to that answer. Replace that variable/tuple by your answer for that question/exercise!\n",
    "    a1 = (string,integer,integer)\n",
    "    a2 = tup[0]\n",
    "    a3 = tup + (integer,)\n",
    "    a4 = tuple(str(integer))\n",
    "    \n",
    "    answer = (a1,a2,a3,a4)\n",
    "    \n",
    "    return(answer)"
   ]
  },
  {
   "cell_type": "code",
   "execution_count": 187,
   "metadata": {},
   "outputs": [
    {
     "name": "stdout",
     "output_type": "stream",
     "text": [
      "(('Room ', 407, 407), 'abc', ('abc', 80, 53, 407), ('4', '0', '7'))\n",
      "(('Room ', 407, 407), 'abc', ('abc', 80, 53, 407), ('4', '0', '7'))\n"
     ]
    }
   ],
   "source": [
    "# Example of correctly formatted function output (actual answer if we use string = 'Room ', integer = 407 and tup = ('abc', 80, 53) as input):\n",
    "print((('Room ', 407, 407), 'abc', ('abc', 80, 53, 407), ('4', '0', '7'))) \n",
    "\n",
    "# Test your output on some inputvariables:\n",
    "teststring = 'Room '\n",
    "testinteger = 407\n",
    "testtuple = ('abc', 80, 53)\n",
    "\n",
    "print(exercise5(teststring, testinteger, testtuple))"
   ]
  },
  {
   "cell_type": "markdown",
   "metadata": {},
   "source": [
    "### Exercise 6: User data\n"
   ]
  },
  {
   "cell_type": "markdown",
   "metadata": {},
   "source": [
    "We want to extract knowledge from user data. The data `userdata` is the input for your function. Give the following information from the database:\n",
    "\n",
    "1. Gather the information of the first two users from the data and return it as a tuple. Here return: `(('Steven', 'Haarlem', 3247934), ('Maarten', 'Leiden', 129831))`\n",
    "2. Given there are three users, return their second variables (their locations) in a tuple. Here return: `('Haarlem', 'Leiden', 'Zoeterwoude')`\n",
    "3. Give the first letter of the name of the second user. Here return: `'M'` \n",
    "4. Given there are three users, add all usernumbers (third variable) up and return their sum as float. Here return: `3497765.0`\n",
    "5. Verify that the first and second user have different names. Return `True` if the names are the same and `False` if they are different. This has to work for a different database as well! Here return: `False`"
   ]
  },
  {
   "cell_type": "code",
   "execution_count": null,
   "metadata": {},
   "outputs": [],
   "source": [
    "def exercise6(userdata):\n",
    "    # Answer the questions/exercises here given that the variable userdata \n",
    "    #  includes a list with tuples for every user with (name, city, usernumber)\n",
    "    a1 = (userdata[0],userdata[1])\n",
    "    a2 = (userdata[0][1],userdata[1][1],userdata[2][1])\n",
    "    a3 = userdata[1][0][0]\n",
    "    a4 = float(userdata[0][2]) + float(userdata[1][2]) + float(userdata[2][2])\n",
    "    a5 = userdata[0][0] == userdata[1][0]\n",
    "    \n",
    "    answer = (a1,a2,a3,a4,a5)\n",
    "    \n",
    "    return(answer)"
   ]
  },
  {
   "cell_type": "code",
   "execution_count": null,
   "metadata": {},
   "outputs": [],
   "source": [
    "# Example of correctly formatted function output (actual answer if we use the testuserdata given below):\n",
    "print(((('Steven', 'Haarlem', 3247934), ('Maarten', 'Leiden', 129831)), ('Haarlem', 'Leiden', 'Zoeterwoude'), 'M', 3497765.0, False))\n",
    "\n",
    "# Test your output on some inputvariables:\n",
    "testuserdata = [(\"Steven\",  \"Haarlem\", 3247934),\n",
    "                (\"Maarten\", \"Leiden\",   129831),\n",
    "                (\"Laura\", \"Zoeterwoude\", 120000)]\n",
    "\n",
    "print(exercise6(testuserdata))"
   ]
  }
 ],
 "metadata": {
  "kernelspec": {
   "display_name": "Python 3",
   "language": "python",
   "name": "python3"
  },
  "language_info": {
   "codemirror_mode": {
    "name": "ipython",
    "version": 3
   },
   "file_extension": ".py",
   "mimetype": "text/x-python",
   "name": "python",
   "nbconvert_exporter": "python",
   "pygments_lexer": "ipython3",
   "version": "3.7.3"
  }
 },
 "nbformat": 4,
 "nbformat_minor": 2
}
