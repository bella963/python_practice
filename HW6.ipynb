{
 "cells": [
  {
   "cell_type": "markdown",
   "metadata": {},
   "source": [
    "# ItDS Assignment 6"
   ]
  },
  {
   "cell_type": "markdown",
   "metadata": {},
   "source": [
    "This homework assignment is about lectures 6 and 7: Pandas."
   ]
  },
  {
   "cell_type": "markdown",
   "metadata": {},
   "source": [
    "The homework is automatically checked. There are some strict guidelines, which are explained below, including some other information.\n",
    "\n",
    "- The first code cell contains a function - `student()` - in which you have to fill in your name, student number and e-mail. Please do so __correctly__, since these will be used to store and mail your results.\n",
    "\n",
    "- All exercises are defined as a function (`def`), of which we will check whether your output of the function corresponds with ours. This means that __we will only check the answer__ (output). So, always check whether your function _returns_ (careful: this is not the same as print) an answer as specified in the exercise!\n",
    "\t- __Do not change the names__ of the given functions, these are specifically named this way for checking the homework. (e.g. if you are to answer exercise 1 which is a function coded: `def exercise1():`, then do not change the name of the function `exercise1()`)\n",
    "\t- __Do not define another new function with the same name__. Even if it is in other cells. We will not be able to find the right version.\n",
    "\t- Do not write additional code in the cell where the function is defined, so only include code within the function that is necessary for the answer. \n",
    "    - After the cell with the function (`def`) a code cell is added where an example of an answer is given to show the format of your output. It also contains a test of your function. You can adjust this to whatever you want (even delete it if you want).\n",
    "\t\n",
    "- Feel free to __add new cells to test snippets of code or for other purposes__.\n",
    "\n",
    "- There are no hard deadlines, but 15/100 points are awarded for submitting your work before the due date, which you can find on Brightspace. It will need to pass at least one test at that time in order to earn those 15 points. __You will be able to resubmit your work at any time after that (until January 1, 2021) and earn the remaining 85/100 points__.\n",
    "\n",
    "About your homework results: An _exercise_ is considered to be correct if all its subquestions are answered correctly, however an _exercise_ sometimes undergoes multiple tests (based on different inputs). The e-mail with results specifies per _exercise_ how many tests you have passed. You will get points only for the exercises where you passed all tests.\n",
    "\n",
    "\n",
    "For any questions about abovementioned guidelines and information or other homework related problems, please e-mail us or ask directly during the practical session!\n",
    "\n",
    "- Deniz Sen: denizsen@protonmail.com\n",
    "- Gergely Talyigás: talyigasg@gmail.com\n",
    "\n"
   ]
  },
  {
   "cell_type": "code",
   "execution_count": 1,
   "metadata": {
    "scrolled": true
   },
   "outputs": [],
   "source": [
    "def student():\n",
    "    sname = 'Bella Shao' # enter your name\n",
    "    snum = '2867426' # enter you student number\n",
    "    semail = 's2876426@vuw.leidenuniv.nl' # enter the e-mail on which you would like the results for this homework assignment\n",
    "    return((sname, snum, semail))"
   ]
  },
  {
   "cell_type": "code",
   "execution_count": 2,
   "metadata": {
    "scrolled": true
   },
   "outputs": [],
   "source": [
    "# The function should look the similar to this:\n",
    "print(('John Doe', '1234567', 'john@doe.com'))\n",
    "# Test your output with the function below (run this cell)\n",
    "student()"
   ]
  },
  {
   "cell_type": "markdown",
   "metadata": {},
   "source": [
    "# Pandas\n",
    "\n",
    "This assignment is about received noise complaint calls by the New York City police in 2016. The data is read in as pandas data frame. Feel free to explore this dataset before doing the exercises. You can for example look at the dimensions, column names, what types of data are in the data frame.\n",
    "\n",
    "*Note: we will check your exercises also on a modified version of this dataset with the same sturcture, but a different number of rows.*\n",
    "\n",
    "Pandas is imported standard as `pd` which we will use throughout the assignment as well. You can also use the module `datetime` in your assignment (but don't need it necessarily). If you want to use any other modules you should import these *inside* the exercise functions.\n"
   ]
  },
  {
   "cell_type": "code",
   "execution_count": 3,
   "metadata": {},
   "outputs": [],
   "source": [
    "import pandas as pd\n",
    "import datetime"
   ]
  },
  {
   "cell_type": "markdown",
   "metadata": {},
   "source": [
    "Read the data."
   ]
  },
  {
   "cell_type": "code",
   "execution_count": 4,
   "metadata": {},
   "outputs": [],
   "source": [
    "df_nyc = pd.read_csv('party_in_nyc_cut.txt', sep = \"\\t\")"
   ]
  },
  {
   "cell_type": "code",
   "execution_count": 5,
   "metadata": {},
   "outputs": [
    {
     "data": {
      "text/plain": [
       "2000"
      ]
     },
     "execution_count": 5,
     "metadata": {},
     "output_type": "execute_result"
    }
   ],
   "source": [
    "df_nyc.head()\n",
    "df_nyc.shape\n",
    "len(df_nyc)\n"
   ]
  },
  {
   "cell_type": "code",
   "execution_count": 34,
   "metadata": {},
   "outputs": [
    {
     "data": {
      "text/html": [
       "<div>\n",
       "<style scoped>\n",
       "    .dataframe tbody tr th:only-of-type {\n",
       "        vertical-align: middle;\n",
       "    }\n",
       "\n",
       "    .dataframe tbody tr th {\n",
       "        vertical-align: top;\n",
       "    }\n",
       "\n",
       "    .dataframe thead th {\n",
       "        text-align: right;\n",
       "    }\n",
       "</style>\n",
       "<table border=\"1\" class=\"dataframe\">\n",
       "  <thead>\n",
       "    <tr style=\"text-align: right;\">\n",
       "      <th></th>\n",
       "      <th>Created Date</th>\n",
       "      <th>Closed Date</th>\n",
       "      <th>Location Type</th>\n",
       "      <th>Incident Zip</th>\n",
       "      <th>City</th>\n",
       "      <th>Borough</th>\n",
       "      <th>Investigation time</th>\n",
       "    </tr>\n",
       "  </thead>\n",
       "  <tbody>\n",
       "    <tr>\n",
       "      <th>0</th>\n",
       "      <td>12*11*2016  00:22:15</td>\n",
       "      <td>12@11@2016  03:16:57</td>\n",
       "      <td>Store/Commercial</td>\n",
       "      <td>10003.0</td>\n",
       "      <td>MANHATTAN</td>\n",
       "      <td>MANHATTAN</td>\n",
       "      <td>0 days 02:54:42</td>\n",
       "    </tr>\n",
       "    <tr>\n",
       "      <th>1</th>\n",
       "      <td>15*01*2016  22:47:54</td>\n",
       "      <td>15@01@2016  22:55:46</td>\n",
       "      <td>Club/Bar/Restaurant</td>\n",
       "      <td>11235.0</td>\n",
       "      <td>BROOKLYN</td>\n",
       "      <td>BROOKLYN</td>\n",
       "      <td>0 days 00:07:52</td>\n",
       "    </tr>\n",
       "    <tr>\n",
       "      <th>2</th>\n",
       "      <td>29*10*2016  00:50:34</td>\n",
       "      <td>29@10@2016  04:34:45</td>\n",
       "      <td>Residential Building/House</td>\n",
       "      <td>11249.0</td>\n",
       "      <td>BROOKLYN</td>\n",
       "      <td>BROOKLYN</td>\n",
       "      <td>0 days 03:44:11</td>\n",
       "    </tr>\n",
       "    <tr>\n",
       "      <th>3</th>\n",
       "      <td>25*12*2016  19:15:25</td>\n",
       "      <td>25@12@2016  23:28:32</td>\n",
       "      <td>Residential Building/House</td>\n",
       "      <td>10462.0</td>\n",
       "      <td>BRONX</td>\n",
       "      <td>BRONX</td>\n",
       "      <td>0 days 04:13:07</td>\n",
       "    </tr>\n",
       "    <tr>\n",
       "      <th>4</th>\n",
       "      <td>17*08*2016  22:17:55</td>\n",
       "      <td>19@08@2016  21:10:55</td>\n",
       "      <td>Residential Building/House</td>\n",
       "      <td>10452.0</td>\n",
       "      <td>BRONX</td>\n",
       "      <td>BRONX</td>\n",
       "      <td>1 days 22:53:00</td>\n",
       "    </tr>\n",
       "  </tbody>\n",
       "</table>\n",
       "</div>"
      ],
      "text/plain": [
       "           Created Date           Closed Date               Location Type  \\\n",
       "0  12*11*2016  00:22:15  12@11@2016  03:16:57            Store/Commercial   \n",
       "1  15*01*2016  22:47:54  15@01@2016  22:55:46         Club/Bar/Restaurant   \n",
       "2  29*10*2016  00:50:34  29@10@2016  04:34:45  Residential Building/House   \n",
       "3  25*12*2016  19:15:25  25@12@2016  23:28:32  Residential Building/House   \n",
       "4  17*08*2016  22:17:55  19@08@2016  21:10:55  Residential Building/House   \n",
       "\n",
       "   Incident Zip       City    Borough Investigation time  \n",
       "0       10003.0  MANHATTAN  MANHATTAN    0 days 02:54:42  \n",
       "1       11235.0   BROOKLYN   BROOKLYN    0 days 00:07:52  \n",
       "2       11249.0   BROOKLYN   BROOKLYN    0 days 03:44:11  \n",
       "3       10462.0      BRONX      BRONX    0 days 04:13:07  \n",
       "4       10452.0      BRONX      BRONX    1 days 22:53:00  "
      ]
     },
     "execution_count": 34,
     "metadata": {},
     "output_type": "execute_result"
    }
   ],
   "source": [
    "df_nyc.head()\n",
    "#sum((df_nyc[\"City\"] == df_nyc[\"Borough\"]) == False)\n"
   ]
  },
  {
   "cell_type": "markdown",
   "metadata": {},
   "source": [
    "### Exercise 1: Counting rows\n",
    "\n",
    " The columns `Borough` and `City` should contain the same value, but since the original data set was created manually, not all rows comply to this.\n",
    "\n",
    "In this exercise, count in how many rows the data set has **in total** and how many rows it has where `Borough` and `City` do **not** contain the same values. You should return a tuple of two integers: total and non-complient.\n",
    "\n",
    "__Example__:\n",
    "Original Data Frame is composed of 100 rows. In 5 rows  the values of the column City and the columns Borough are not identical. Returned tuple should be `(100, 5)` .\n",
    "\n",
    "__Hint__:\n",
    "Get familar with the following commands to understand the structure of the data set;`pd.read_csv()`, `object.head()`, `object.shape`.\n"
   ]
  },
  {
   "cell_type": "code",
   "execution_count": 7,
   "metadata": {
    "scrolled": true
   },
   "outputs": [],
   "source": [
    "#count_rows\n",
    "# in: the nyc data as pandas data frame: dataframe\n",
    "# out: tuple of two integers with total number of rows and number of non-complient rows\n",
    "\n",
    "def count_rows(dataframe):\n",
    "    row_number = len(dataframe)\n",
    "    non_complient_rows = sum((dataframe[\"City\"] == dataframe[\"Borough\"]) == False)\n",
    "    \n",
    "    return (row_number,non_complient_rows)"
   ]
  },
  {
   "cell_type": "code",
   "execution_count": 8,
   "metadata": {},
   "outputs": [
    {
     "name": "stdout",
     "output_type": "stream",
     "text": [
      "(2000, 336)\n"
     ]
    },
    {
     "data": {
      "text/plain": [
       "(2000, 336)"
      ]
     },
     "execution_count": 8,
     "metadata": {},
     "output_type": "execute_result"
    }
   ],
   "source": [
    "#Example of a correctly formatted function output (the actual output for this dataset)\n",
    "print((2000, 336))\n",
    "\n",
    "# Test your own output:\n",
    "count_rows(df_nyc)"
   ]
  },
  {
   "cell_type": "markdown",
   "metadata": {},
   "source": [
    "### Exercise 2: Investigation Time\n",
    "\n",
    "Imagine the NY City Police department is interested in a statistic which gives information about the time it takes to complete an investigation. In order to compute the time it takes to complete an investigation create the following variables:\n",
    "\n",
    "`Created Date`: time of the report of the incident;\n",
    "\n",
    "`Closed Date`: time when the incident was closed by police;\n",
    "\n",
    "Then for each incident in the dataframe `df_nyc` calculate the time that was needed to resolve the incident. Name the new column `Investigation time`. Return the minimum time needed for the incident investigation. The function should return two integers: number of spent hours, number of spent minutes.\n",
    "\n",
    "__Example__:\n",
    "\n",
    "Minimal time of investigation = 2h 43m 22s\n",
    "\n",
    "Return: `(2, 43)` "
   ]
  },
  {
   "cell_type": "code",
   "execution_count": 32,
   "metadata": {
    "scrolled": true
   },
   "outputs": [],
   "source": [
    "#shortest_solving_time\n",
    "# in: the nyc data as pandas data frame: dataframe\n",
    "# out: tuple with shortest investigation time in (hours, minutes)\n",
    "def shortest_solving_time(dataframe):\n",
    "    dataframe['Investigation time'] = pd.to_datetime(df_nyc[\"Closed Date\"],format = '%d@%m@%Y %H:%M:%S') - pd.to_datetime(df_nyc[\"Created Date\"],format = '%d*%m*%Y %H:%M:%S')\n",
    "    minimum_invest_time = min(dataframe['Investigation time'])\n",
    "    hours = minimum_invest_time.seconds//3600\n",
    "    minutes = (minimum_invest_time.seconds//60)%60\n",
    "    \n",
    "    \n",
    "    return (hours,minutes)"
   ]
  },
  {
   "cell_type": "code",
   "execution_count": 33,
   "metadata": {},
   "outputs": [
    {
     "name": "stdout",
     "output_type": "stream",
     "text": [
      "(0, 2)\n"
     ]
    },
    {
     "data": {
      "text/plain": [
       "(0, 2)"
      ]
     },
     "execution_count": 33,
     "metadata": {},
     "output_type": "execute_result"
    }
   ],
   "source": [
    "#Example of a correctly formatted function output (the actual output for this dataset)\n",
    "print((0, 2))\n",
    "\n",
    "#Test your own output:\n",
    "shortest_solving_time(df_nyc)"
   ]
  },
  {
   "cell_type": "markdown",
   "metadata": {},
   "source": [
    "### Exercise 3: Number of Complaints per Borough\n",
    "\n",
    "Lastly, check the number of police compliants for each `Borough` that is **not** `Unspecified`. Return the result in the following format:\n",
    "- A pandas series with the number of cases and the index indicating the boroughs;\n",
    "- The object is sorted according to the number of found cases starting from the biggest number;\n",
    "- The object does not contain the count for ` Unspecified` boroughs\n",
    "- The object is allowed to have or not have a 'Name:' (it doesn't matter which name).\n",
    "\n",
    "~~~~\n",
    "Borough | Number_of_cases\n",
    "_______________________\n",
    "name 1  | biggest count\n",
    ".\n",
    ".\n",
    ".\n",
    "name n  | smallest count\n",
    "~~~~\n",
    "\n",
    "**Hint**: There are several pandas methods you can use for this task."
   ]
  },
  {
   "cell_type": "code",
   "execution_count": 41,
   "metadata": {},
   "outputs": [],
   "source": [
    "#complaints_per_borough\n",
    "# in: the nyc data as pandas data frame: dataframe\n",
    "# out: pd.Series with decending counts of incidents per borough, only for specified buroughs\n",
    "def complaints_per_borough(dataframe):\n",
    "    series_count = dataframe.groupby('Borough', as_index = True).size().sort_values(ascending = False).drop([\"Unspecified\"])\n",
    "    #print(series_count)\n",
    "    del series_count.index.name\n",
    "   \n",
    "    return (series_count)"
   ]
  },
  {
   "cell_type": "code",
   "execution_count": 42,
   "metadata": {},
   "outputs": [
    {
     "name": "stdout",
     "output_type": "stream",
     "text": [
      "BROOKLYN         617\n",
      "MANHATTAN        568\n",
      "BRONX            411\n",
      "QUEENS           333\n",
      "STATEN ISLAND     60\n",
      "dtype: int64\n"
     ]
    },
    {
     "data": {
      "text/plain": [
       "BROOKLYN         617\n",
       "MANHATTAN        568\n",
       "BRONX            411\n",
       "QUEENS           333\n",
       "STATEN ISLAND     60\n",
       "dtype: int64"
      ]
     },
     "execution_count": 42,
     "metadata": {},
     "output_type": "execute_result"
    }
   ],
   "source": [
    "#note: your pd.Series is allowed to have a 'Name:', but it doesn't matter which name.\n",
    "#Example of a correctly formatted function output (the actual output for this dataset, except for name)\n",
    "print(pd.Series((617,568,411,333,60), index = ('BROOKLYN', 'MANHATTAN','BRONX','QUEENS', 'STATEN ISLAND')))\n",
    "\n",
    "#Test your own output:\n",
    "complaints_per_borough(df_nyc)"
   ]
  },
  {
   "cell_type": "code",
   "execution_count": 43,
   "metadata": {},
   "outputs": [
    {
     "data": {
      "text/html": [
       "<div>\n",
       "<style scoped>\n",
       "    .dataframe tbody tr th:only-of-type {\n",
       "        vertical-align: middle;\n",
       "    }\n",
       "\n",
       "    .dataframe tbody tr th {\n",
       "        vertical-align: top;\n",
       "    }\n",
       "\n",
       "    .dataframe thead th {\n",
       "        text-align: right;\n",
       "    }\n",
       "</style>\n",
       "<table border=\"1\" class=\"dataframe\">\n",
       "  <thead>\n",
       "    <tr style=\"text-align: right;\">\n",
       "      <th></th>\n",
       "      <th>Created Date</th>\n",
       "      <th>Closed Date</th>\n",
       "      <th>Location Type</th>\n",
       "      <th>Incident Zip</th>\n",
       "      <th>City</th>\n",
       "      <th>Borough</th>\n",
       "      <th>Investigation time</th>\n",
       "    </tr>\n",
       "  </thead>\n",
       "  <tbody>\n",
       "    <tr>\n",
       "      <th>0</th>\n",
       "      <td>12*11*2016  00:22:15</td>\n",
       "      <td>12@11@2016  03:16:57</td>\n",
       "      <td>Store/Commercial</td>\n",
       "      <td>10003.0</td>\n",
       "      <td>MANHATTAN</td>\n",
       "      <td>MANHATTAN</td>\n",
       "      <td>0 days 02:54:42</td>\n",
       "    </tr>\n",
       "    <tr>\n",
       "      <th>1</th>\n",
       "      <td>15*01*2016  22:47:54</td>\n",
       "      <td>15@01@2016  22:55:46</td>\n",
       "      <td>Club/Bar/Restaurant</td>\n",
       "      <td>11235.0</td>\n",
       "      <td>BROOKLYN</td>\n",
       "      <td>BROOKLYN</td>\n",
       "      <td>0 days 00:07:52</td>\n",
       "    </tr>\n",
       "    <tr>\n",
       "      <th>2</th>\n",
       "      <td>29*10*2016  00:50:34</td>\n",
       "      <td>29@10@2016  04:34:45</td>\n",
       "      <td>Residential Building/House</td>\n",
       "      <td>11249.0</td>\n",
       "      <td>BROOKLYN</td>\n",
       "      <td>BROOKLYN</td>\n",
       "      <td>0 days 03:44:11</td>\n",
       "    </tr>\n",
       "    <tr>\n",
       "      <th>3</th>\n",
       "      <td>25*12*2016  19:15:25</td>\n",
       "      <td>25@12@2016  23:28:32</td>\n",
       "      <td>Residential Building/House</td>\n",
       "      <td>10462.0</td>\n",
       "      <td>BRONX</td>\n",
       "      <td>BRONX</td>\n",
       "      <td>0 days 04:13:07</td>\n",
       "    </tr>\n",
       "    <tr>\n",
       "      <th>4</th>\n",
       "      <td>17*08*2016  22:17:55</td>\n",
       "      <td>19@08@2016  21:10:55</td>\n",
       "      <td>Residential Building/House</td>\n",
       "      <td>10452.0</td>\n",
       "      <td>BRONX</td>\n",
       "      <td>BRONX</td>\n",
       "      <td>1 days 22:53:00</td>\n",
       "    </tr>\n",
       "  </tbody>\n",
       "</table>\n",
       "</div>"
      ],
      "text/plain": [
       "           Created Date           Closed Date               Location Type  \\\n",
       "0  12*11*2016  00:22:15  12@11@2016  03:16:57            Store/Commercial   \n",
       "1  15*01*2016  22:47:54  15@01@2016  22:55:46         Club/Bar/Restaurant   \n",
       "2  29*10*2016  00:50:34  29@10@2016  04:34:45  Residential Building/House   \n",
       "3  25*12*2016  19:15:25  25@12@2016  23:28:32  Residential Building/House   \n",
       "4  17*08*2016  22:17:55  19@08@2016  21:10:55  Residential Building/House   \n",
       "\n",
       "   Incident Zip       City    Borough Investigation time  \n",
       "0       10003.0  MANHATTAN  MANHATTAN    0 days 02:54:42  \n",
       "1       11235.0   BROOKLYN   BROOKLYN    0 days 00:07:52  \n",
       "2       11249.0   BROOKLYN   BROOKLYN    0 days 03:44:11  \n",
       "3       10462.0      BRONX      BRONX    0 days 04:13:07  \n",
       "4       10452.0      BRONX      BRONX    1 days 22:53:00  "
      ]
     },
     "execution_count": 43,
     "metadata": {},
     "output_type": "execute_result"
    }
   ],
   "source": [
    "df_nyc.head()"
   ]
  },
  {
   "cell_type": "code",
   "execution_count": null,
   "metadata": {},
   "outputs": [],
   "source": []
  }
 ],
 "metadata": {
  "kernelspec": {
   "display_name": "Python 3",
   "language": "python",
   "name": "python3"
  },
  "language_info": {
   "codemirror_mode": {
    "name": "ipython",
    "version": 3
   },
   "file_extension": ".py",
   "mimetype": "text/x-python",
   "name": "python",
   "nbconvert_exporter": "python",
   "pygments_lexer": "ipython3",
   "version": "3.7.3"
  }
 },
 "nbformat": 4,
 "nbformat_minor": 4
}
